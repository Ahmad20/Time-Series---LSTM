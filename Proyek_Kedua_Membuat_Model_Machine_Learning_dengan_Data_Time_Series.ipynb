{
  "nbformat": 4,
  "nbformat_minor": 0,
  "metadata": {
    "colab": {
      "name": "Proyek Kedua : Membuat Model Machine Learning dengan Data Time Series.ipynb",
      "provenance": [],
      "collapsed_sections": [],
      "authorship_tag": "ABX9TyOXBjl9h/pb4oLsC50CGxS2"
    },
    "kernelspec": {
      "name": "python3",
      "display_name": "Python 3"
    },
    "language_info": {
      "name": "python"
    }
  },
  "cells": [
    {
      "cell_type": "code",
      "metadata": {
        "id": "0-F56NVP-R0U"
      },
      "source": [
        "import numpy as np\n",
        "import pandas as pd\n",
        "import matplotlib.pyplot as plt\n",
        "from keras.layers import Dense, LSTM\n",
        "import tensorflow as tf\n",
        "from sklearn.model_selection import TimeSeriesSplit"
      ],
      "execution_count": 188,
      "outputs": []
    },
    {
      "cell_type": "code",
      "metadata": {
        "id": "5tLs44_Q_y1x"
      },
      "source": [
        "df = pd.read_csv(\"https://raw.githubusercontent.com/Ahmad20/Time-Series---LSTM/main/austin_weather.csv\")"
      ],
      "execution_count": 189,
      "outputs": []
    },
    {
      "cell_type": "code",
      "metadata": {
        "id": "iE2COhwVR_ll",
        "colab": {
          "base_uri": "https://localhost:8080/",
          "height": 309
        },
        "outputId": "932eda57-8c56-4254-95b7-a9235b0c4281"
      },
      "source": [
        "df.tail()"
      ],
      "execution_count": 190,
      "outputs": [
        {
          "output_type": "execute_result",
          "data": {
            "text/html": [
              "<div>\n",
              "<style scoped>\n",
              "    .dataframe tbody tr th:only-of-type {\n",
              "        vertical-align: middle;\n",
              "    }\n",
              "\n",
              "    .dataframe tbody tr th {\n",
              "        vertical-align: top;\n",
              "    }\n",
              "\n",
              "    .dataframe thead th {\n",
              "        text-align: right;\n",
              "    }\n",
              "</style>\n",
              "<table border=\"1\" class=\"dataframe\">\n",
              "  <thead>\n",
              "    <tr style=\"text-align: right;\">\n",
              "      <th></th>\n",
              "      <th>Date</th>\n",
              "      <th>TempHighF</th>\n",
              "      <th>TempAvgF</th>\n",
              "      <th>TempLowF</th>\n",
              "      <th>DewPointHighF</th>\n",
              "      <th>DewPointAvgF</th>\n",
              "      <th>DewPointLowF</th>\n",
              "      <th>HumidityHighPercent</th>\n",
              "      <th>HumidityAvgPercent</th>\n",
              "      <th>HumidityLowPercent</th>\n",
              "      <th>SeaLevelPressureHighInches</th>\n",
              "      <th>SeaLevelPressureAvgInches</th>\n",
              "      <th>SeaLevelPressureLowInches</th>\n",
              "      <th>VisibilityHighMiles</th>\n",
              "      <th>VisibilityAvgMiles</th>\n",
              "      <th>VisibilityLowMiles</th>\n",
              "      <th>WindHighMPH</th>\n",
              "      <th>WindAvgMPH</th>\n",
              "      <th>WindGustMPH</th>\n",
              "      <th>PrecipitationSumInches</th>\n",
              "      <th>Events</th>\n",
              "    </tr>\n",
              "  </thead>\n",
              "  <tbody>\n",
              "    <tr>\n",
              "      <th>1314</th>\n",
              "      <td>2017-07-27</td>\n",
              "      <td>103</td>\n",
              "      <td>89</td>\n",
              "      <td>75</td>\n",
              "      <td>71</td>\n",
              "      <td>67</td>\n",
              "      <td>61</td>\n",
              "      <td>82</td>\n",
              "      <td>54</td>\n",
              "      <td>25</td>\n",
              "      <td>30.04</td>\n",
              "      <td>29.97</td>\n",
              "      <td>29.88</td>\n",
              "      <td>10</td>\n",
              "      <td>10</td>\n",
              "      <td>10</td>\n",
              "      <td>12</td>\n",
              "      <td>5</td>\n",
              "      <td>21</td>\n",
              "      <td>0</td>\n",
              "      <td></td>\n",
              "    </tr>\n",
              "    <tr>\n",
              "      <th>1315</th>\n",
              "      <td>2017-07-28</td>\n",
              "      <td>105</td>\n",
              "      <td>91</td>\n",
              "      <td>76</td>\n",
              "      <td>71</td>\n",
              "      <td>64</td>\n",
              "      <td>55</td>\n",
              "      <td>87</td>\n",
              "      <td>54</td>\n",
              "      <td>20</td>\n",
              "      <td>29.97</td>\n",
              "      <td>29.9</td>\n",
              "      <td>29.81</td>\n",
              "      <td>10</td>\n",
              "      <td>10</td>\n",
              "      <td>10</td>\n",
              "      <td>14</td>\n",
              "      <td>5</td>\n",
              "      <td>20</td>\n",
              "      <td>0</td>\n",
              "      <td></td>\n",
              "    </tr>\n",
              "    <tr>\n",
              "      <th>1316</th>\n",
              "      <td>2017-07-29</td>\n",
              "      <td>107</td>\n",
              "      <td>92</td>\n",
              "      <td>77</td>\n",
              "      <td>72</td>\n",
              "      <td>64</td>\n",
              "      <td>55</td>\n",
              "      <td>82</td>\n",
              "      <td>51</td>\n",
              "      <td>19</td>\n",
              "      <td>29.91</td>\n",
              "      <td>29.86</td>\n",
              "      <td>29.79</td>\n",
              "      <td>10</td>\n",
              "      <td>10</td>\n",
              "      <td>10</td>\n",
              "      <td>12</td>\n",
              "      <td>4</td>\n",
              "      <td>17</td>\n",
              "      <td>0</td>\n",
              "      <td></td>\n",
              "    </tr>\n",
              "    <tr>\n",
              "      <th>1317</th>\n",
              "      <td>2017-07-30</td>\n",
              "      <td>106</td>\n",
              "      <td>93</td>\n",
              "      <td>79</td>\n",
              "      <td>70</td>\n",
              "      <td>68</td>\n",
              "      <td>63</td>\n",
              "      <td>69</td>\n",
              "      <td>48</td>\n",
              "      <td>27</td>\n",
              "      <td>29.96</td>\n",
              "      <td>29.91</td>\n",
              "      <td>29.87</td>\n",
              "      <td>10</td>\n",
              "      <td>10</td>\n",
              "      <td>10</td>\n",
              "      <td>13</td>\n",
              "      <td>4</td>\n",
              "      <td>20</td>\n",
              "      <td>0</td>\n",
              "      <td></td>\n",
              "    </tr>\n",
              "    <tr>\n",
              "      <th>1318</th>\n",
              "      <td>2017-07-31</td>\n",
              "      <td>99</td>\n",
              "      <td>88</td>\n",
              "      <td>77</td>\n",
              "      <td>66</td>\n",
              "      <td>61</td>\n",
              "      <td>54</td>\n",
              "      <td>64</td>\n",
              "      <td>43</td>\n",
              "      <td>22</td>\n",
              "      <td>30.04</td>\n",
              "      <td>29.97</td>\n",
              "      <td>29.91</td>\n",
              "      <td>10</td>\n",
              "      <td>10</td>\n",
              "      <td>10</td>\n",
              "      <td>12</td>\n",
              "      <td>4</td>\n",
              "      <td>20</td>\n",
              "      <td>0</td>\n",
              "      <td></td>\n",
              "    </tr>\n",
              "  </tbody>\n",
              "</table>\n",
              "</div>"
            ],
            "text/plain": [
              "            Date  TempHighF  TempAvgF  ...  WindGustMPH PrecipitationSumInches Events\n",
              "1314  2017-07-27        103        89  ...           21                      0       \n",
              "1315  2017-07-28        105        91  ...           20                      0       \n",
              "1316  2017-07-29        107        92  ...           17                      0       \n",
              "1317  2017-07-30        106        93  ...           20                      0       \n",
              "1318  2017-07-31         99        88  ...           20                      0       \n",
              "\n",
              "[5 rows x 21 columns]"
            ]
          },
          "metadata": {},
          "execution_count": 190
        }
      ]
    },
    {
      "cell_type": "code",
      "metadata": {
        "id": "9j9J08WuSnFM"
      },
      "source": [
        "df = df[['Date','TempAvgF']]"
      ],
      "execution_count": 191,
      "outputs": []
    },
    {
      "cell_type": "code",
      "metadata": {
        "colab": {
          "base_uri": "https://localhost:8080/",
          "height": 416
        },
        "id": "pOHiEe4JDY--",
        "outputId": "a1e57ec4-ab76-41c9-f5dd-7b8b958263bd"
      },
      "source": [
        "dates = df['Date'].values\n",
        "temps = df['TempAvgF'].values\n",
        "\n",
        "plt.figure(figsize=(13,6))\n",
        "plt.plot(dates,temps)\n",
        "plt.title(\"Suhu Rerata(F)\", fontsize=25)"
      ],
      "execution_count": 192,
      "outputs": [
        {
          "output_type": "execute_result",
          "data": {
            "text/plain": [
              "Text(0.5, 1.0, 'Suhu Rerata(F)')"
            ]
          },
          "metadata": {},
          "execution_count": 192
        },
        {
          "output_type": "display_data",
          "data": {
            "image/png": "[encoded data removed]",
            "text/plain": [
              "<Figure size 936x432 with 1 Axes>"
            ]
          },
          "metadata": {
            "needs_background": "light"
          }
        }
      ]
    },
    {
      "cell_type": "code",
      "metadata": {
        "colab": {
          "base_uri": "https://localhost:8080/"
        },
        "id": "68HkPVfxUJlM",
        "outputId": "817b9fa6-3207-4776-9c13-82f69731ac75"
      },
      "source": [
        "df.shape"
      ],
      "execution_count": 193,
      "outputs": [
        {
          "output_type": "execute_result",
          "data": {
            "text/plain": [
              "(1319, 2)"
            ]
          },
          "metadata": {},
          "execution_count": 193
        }
      ]
    },
    {
      "cell_type": "markdown",
      "metadata": {
        "id": "yWPUeG6DGQU7"
      },
      "source": [
        "Data Training 80% | Data Test 20%"
      ]
    },
    {
      "cell_type": "code",
      "metadata": {
        "id": "gPhJCiwn8Ykb"
      },
      "source": [
        "train_set, test_set= np.split(df, [int(.80 *len(df))])"
      ],
      "execution_count": 194,
      "outputs": []
    },
    {
      "cell_type": "code",
      "metadata": {
        "colab": {
          "base_uri": "https://localhost:8080/"
        },
        "id": "JZPlrl_YGlHp",
        "outputId": "68c4847a-f500-43e4-f592-5bd20b9352f5"
      },
      "source": [
        "print(train_set.shape)\n",
        "print(type(train_set))\n",
        "train_set = train_set.to_numpy()\n",
        "print(type(train_set))"
      ],
      "execution_count": 195,
      "outputs": [
        {
          "output_type": "stream",
          "name": "stdout",
          "text": [
            "(1055, 2)\n",
            "<class 'pandas.core.frame.DataFrame'>\n",
            "<class 'numpy.ndarray'>\n"
          ]
        }
      ]
    },
    {
      "cell_type": "code",
      "metadata": {
        "colab": {
          "base_uri": "https://localhost:8080/"
        },
        "id": "r5r06OpKGw5B",
        "outputId": "fdec7fb4-a554-4e78-cf6a-d5360bfa5691"
      },
      "source": [
        "print(test_set.shape)\n",
        "print(type(test_set))"
      ],
      "execution_count": 196,
      "outputs": [
        {
          "output_type": "stream",
          "name": "stdout",
          "text": [
            "(264, 2)\n",
            "<class 'pandas.core.frame.DataFrame'>\n"
          ]
        }
      ]
    },
    {
      "cell_type": "code",
      "metadata": {
        "colab": {
          "base_uri": "https://localhost:8080/"
        },
        "id": "7i7aQ8Z5I5gB",
        "outputId": "c2665830-b5e1-4e42-bb56-940c58f018d2"
      },
      "source": [
        "df.dtypes"
      ],
      "execution_count": 197,
      "outputs": [
        {
          "output_type": "execute_result",
          "data": {
            "text/plain": [
              "Date        object\n",
              "TempAvgF     int64\n",
              "dtype: object"
            ]
          },
          "metadata": {},
          "execution_count": 197
        }
      ]
    },
    {
      "cell_type": "markdown",
      "metadata": {
        "id": "19NeHyRAI0wJ"
      },
      "source": [
        "Temperatur memiliki tipe data integer sehingga perlu di lakukan konversi menjadi tipe float64"
      ]
    },
    {
      "cell_type": "code",
      "metadata": {
        "id": "dk_HbtE4Bz_z"
      },
      "source": [
        "new_temp=train_set[:,1].astype('float64')"
      ],
      "execution_count": 198,
      "outputs": []
    },
    {
      "cell_type": "code",
      "metadata": {
        "id": "GlFRaAMDEPgL"
      },
      "source": [
        "def windowed_dataset(series, window_size, batch_size, shuffle_buffer):\n",
        "    series = tf.expand_dims(series, axis=-1)\n",
        "    ds = tf.data.Dataset.from_tensor_slices(series)\n",
        "    ds = ds.window(window_size + 1, shift=1, drop_remainder=True)\n",
        "    ds = ds.flat_map(lambda w: w.batch(window_size + 1))\n",
        "    ds = ds.shuffle(shuffle_buffer)\n",
        "    ds = ds.map(lambda w: (w[:-1], w[-1:]))\n",
        "    return ds.batch(batch_size).prefetch(1)"
      ],
      "execution_count": 199,
      "outputs": []
    },
    {
      "cell_type": "code",
      "metadata": {
        "id": "pA1DJbv4EWqn"
      },
      "source": [
        "train_set = windowed_dataset(new_temp, 30, 50, 200)\n",
        "model = tf.keras.models.Sequential([\n",
        "     tf.keras.layers.LSTM(60, return_sequences=True),\n",
        "     tf.keras.layers.LSTM(60),\n",
        "     tf.keras.layers.Dense(30, activation=\"relu\"),\n",
        "     tf.keras.layers.Dense(10, activation=\"relu\"),\n",
        "     tf.keras.layers.Dense(1),\n",
        "    ])"
      ],
      "execution_count": 200,
      "outputs": []
    },
    {
      "cell_type": "code",
      "metadata": {
        "colab": {
          "base_uri": "https://localhost:8080/"
        },
        "id": "YizTIqYuFMCX",
        "outputId": "c56d4348-80a1-4183-ab3f-a402d45494f9"
      },
      "source": [
        "optimizer = tf.keras.optimizers.SGD(learning_rate=1.0000e-04, momentum=.9)\n",
        "model.compile(\n",
        "    loss = tf.keras.losses.Huber(),\n",
        "    optimizer=optimizer,\n",
        "    metrics=[\"mae\"])\n",
        "history = model.fit(train_set, epochs=100)"
      ],
      "execution_count": 201,
      "outputs": [
        {
          "output_type": "stream",
          "name": "stdout",
          "text": [
            "Epoch 1/100\n",
            "21/21 [==============================] - 5s 42ms/step - loss: 70.3005 - mae: 70.8005\n",
            "Epoch 2/100\n",
            "21/21 [==============================] - 1s 41ms/step - loss: 69.9557 - mae: 70.4557\n",
            "Epoch 3/100\n",
            "21/21 [==============================] - 1s 45ms/step - loss: 69.6072 - mae: 70.1072\n",
            "Epoch 4/100\n",
            "21/21 [==============================] - 1s 41ms/step - loss: 69.2554 - mae: 69.7554\n",
            "Epoch 5/100\n",
            "21/21 [==============================] - 1s 42ms/step - loss: 68.8368 - mae: 69.3368\n",
            "Epoch 6/100\n",
            "21/21 [==============================] - 1s 40ms/step - loss: 68.3088 - mae: 68.8088\n",
            "Epoch 7/100\n",
            "21/21 [==============================] - 1s 39ms/step - loss: 67.6234 - mae: 68.1234\n",
            "Epoch 8/100\n",
            "21/21 [==============================] - 1s 41ms/step - loss: 66.7106 - mae: 67.2106\n",
            "Epoch 9/100\n",
            "21/21 [==============================] - 1s 41ms/step - loss: 65.4577 - mae: 65.9577\n",
            "Epoch 10/100\n",
            "21/21 [==============================] - 1s 41ms/step - loss: 63.6726 - mae: 64.1726\n",
            "Epoch 11/100\n",
            "21/21 [==============================] - 1s 41ms/step - loss: 61.0056 - mae: 61.5056\n",
            "Epoch 12/100\n",
            "21/21 [==============================] - 1s 42ms/step - loss: 56.7712 - mae: 57.2712\n",
            "Epoch 13/100\n",
            "21/21 [==============================] - 1s 43ms/step - loss: 49.4891 - mae: 49.9891\n",
            "Epoch 14/100\n",
            "21/21 [==============================] - 1s 41ms/step - loss: 35.5440 - mae: 36.0440\n",
            "Epoch 15/100\n",
            "21/21 [==============================] - 1s 40ms/step - loss: 14.6809 - mae: 15.1745\n",
            "Epoch 16/100\n",
            "21/21 [==============================] - 1s 39ms/step - loss: 11.5955 - mae: 12.0899\n",
            "Epoch 17/100\n",
            "21/21 [==============================] - 1s 40ms/step - loss: 10.9313 - mae: 11.4202\n",
            "Epoch 18/100\n",
            "21/21 [==============================] - 1s 41ms/step - loss: 11.0466 - mae: 11.5361\n",
            "Epoch 19/100\n",
            "21/21 [==============================] - 1s 42ms/step - loss: 10.6769 - mae: 11.1693\n",
            "Epoch 20/100\n",
            "21/21 [==============================] - 1s 40ms/step - loss: 10.4666 - mae: 10.9561\n",
            "Epoch 21/100\n",
            "21/21 [==============================] - 1s 41ms/step - loss: 9.9110 - mae: 10.4032\n",
            "Epoch 22/100\n",
            "21/21 [==============================] - 1s 40ms/step - loss: 9.1628 - mae: 9.6524\n",
            "Epoch 23/100\n",
            "21/21 [==============================] - 1s 41ms/step - loss: 8.7048 - mae: 9.1936\n",
            "Epoch 24/100\n",
            "21/21 [==============================] - 1s 40ms/step - loss: 7.7836 - mae: 8.2703\n",
            "Epoch 25/100\n",
            "21/21 [==============================] - 1s 40ms/step - loss: 6.2941 - mae: 6.7790\n",
            "Epoch 26/100\n",
            "21/21 [==============================] - 1s 40ms/step - loss: 5.5180 - mae: 5.9957\n",
            "Epoch 27/100\n",
            "21/21 [==============================] - 1s 42ms/step - loss: 5.3592 - mae: 5.8359\n",
            "Epoch 28/100\n",
            "21/21 [==============================] - 1s 42ms/step - loss: 5.4949 - mae: 5.9719\n",
            "Epoch 29/100\n",
            "21/21 [==============================] - 1s 39ms/step - loss: 7.3599 - mae: 7.8432\n",
            "Epoch 30/100\n",
            "21/21 [==============================] - 1s 45ms/step - loss: 8.9168 - mae: 9.4037\n",
            "Epoch 31/100\n",
            "21/21 [==============================] - 1s 41ms/step - loss: 8.9862 - mae: 9.4769\n",
            "Epoch 32/100\n",
            "21/21 [==============================] - 1s 41ms/step - loss: 8.7815 - mae: 9.2669\n",
            "Epoch 33/100\n",
            "21/21 [==============================] - 1s 40ms/step - loss: 9.2034 - mae: 9.6952\n",
            "Epoch 34/100\n",
            "21/21 [==============================] - 1s 41ms/step - loss: 7.0197 - mae: 7.5012\n",
            "Epoch 35/100\n",
            "21/21 [==============================] - 1s 41ms/step - loss: 6.7133 - mae: 7.1963\n",
            "Epoch 36/100\n",
            "21/21 [==============================] - 1s 40ms/step - loss: 7.8735 - mae: 8.3622\n",
            "Epoch 37/100\n",
            "21/21 [==============================] - 1s 40ms/step - loss: 8.3422 - mae: 8.8324\n",
            "Epoch 38/100\n",
            "21/21 [==============================] - 1s 41ms/step - loss: 9.4839 - mae: 9.9732\n",
            "Epoch 39/100\n",
            "21/21 [==============================] - 1s 42ms/step - loss: 8.1530 - mae: 8.6435\n",
            "Epoch 40/100\n",
            "21/21 [==============================] - 1s 44ms/step - loss: 6.0173 - mae: 6.5002\n",
            "Epoch 41/100\n",
            "21/21 [==============================] - 1s 40ms/step - loss: 9.1356 - mae: 9.6229\n",
            "Epoch 42/100\n",
            "21/21 [==============================] - 1s 41ms/step - loss: 6.5189 - mae: 7.0030\n",
            "Epoch 43/100\n",
            "21/21 [==============================] - 1s 40ms/step - loss: 5.1990 - mae: 5.6789\n",
            "Epoch 44/100\n",
            "21/21 [==============================] - 1s 41ms/step - loss: 5.4205 - mae: 5.9020\n",
            "Epoch 45/100\n",
            "21/21 [==============================] - 1s 42ms/step - loss: 6.4223 - mae: 6.9081\n",
            "Epoch 46/100\n",
            "21/21 [==============================] - 1s 41ms/step - loss: 6.9052 - mae: 7.3874\n",
            "Epoch 47/100\n",
            "21/21 [==============================] - 1s 40ms/step - loss: 5.6796 - mae: 6.1623\n",
            "Epoch 48/100\n",
            "21/21 [==============================] - 1s 43ms/step - loss: 5.4632 - mae: 5.9456\n",
            "Epoch 49/100\n",
            "21/21 [==============================] - 1s 42ms/step - loss: 7.2048 - mae: 7.6911\n",
            "Epoch 50/100\n",
            "21/21 [==============================] - 1s 40ms/step - loss: 5.8182 - mae: 6.3043\n",
            "Epoch 51/100\n",
            "21/21 [==============================] - 1s 41ms/step - loss: 4.8451 - mae: 5.3272\n",
            "Epoch 52/100\n",
            "21/21 [==============================] - 1s 41ms/step - loss: 6.2029 - mae: 6.6869\n",
            "Epoch 53/100\n",
            "21/21 [==============================] - 1s 40ms/step - loss: 5.2789 - mae: 5.7601\n",
            "Epoch 54/100\n",
            "21/21 [==============================] - 1s 40ms/step - loss: 4.6879 - mae: 5.1652\n",
            "Epoch 55/100\n",
            "21/21 [==============================] - 1s 41ms/step - loss: 4.9395 - mae: 5.4166\n",
            "Epoch 56/100\n",
            "21/21 [==============================] - 1s 42ms/step - loss: 4.9255 - mae: 5.4051\n",
            "Epoch 57/100\n",
            "21/21 [==============================] - 1s 42ms/step - loss: 5.3577 - mae: 5.8389\n",
            "Epoch 58/100\n",
            "21/21 [==============================] - 1s 43ms/step - loss: 5.0706 - mae: 5.5495\n",
            "Epoch 59/100\n",
            "21/21 [==============================] - 1s 42ms/step - loss: 4.7191 - mae: 5.2003\n",
            "Epoch 60/100\n",
            "21/21 [==============================] - 1s 41ms/step - loss: 4.6677 - mae: 5.1422\n",
            "Epoch 61/100\n",
            "21/21 [==============================] - 1s 41ms/step - loss: 5.4705 - mae: 5.9489\n",
            "Epoch 62/100\n",
            "21/21 [==============================] - 1s 41ms/step - loss: 6.3321 - mae: 6.8155\n",
            "Epoch 63/100\n",
            "21/21 [==============================] - 1s 42ms/step - loss: 6.0507 - mae: 6.5356\n",
            "Epoch 64/100\n",
            "21/21 [==============================] - 1s 41ms/step - loss: 7.0463 - mae: 7.5255\n",
            "Epoch 65/100\n",
            "21/21 [==============================] - 1s 42ms/step - loss: 7.1709 - mae: 7.6569\n",
            "Epoch 66/100\n",
            "21/21 [==============================] - 1s 41ms/step - loss: 7.9928 - mae: 8.4808\n",
            "Epoch 67/100\n",
            "21/21 [==============================] - 1s 41ms/step - loss: 8.8000 - mae: 9.2909\n",
            "Epoch 68/100\n",
            "21/21 [==============================] - 1s 42ms/step - loss: 7.5759 - mae: 8.0633\n",
            "Epoch 69/100\n",
            "21/21 [==============================] - 1s 42ms/step - loss: 6.1736 - mae: 6.6544\n",
            "Epoch 70/100\n",
            "21/21 [==============================] - 1s 42ms/step - loss: 7.2400 - mae: 7.7259\n",
            "Epoch 71/100\n",
            "21/21 [==============================] - 1s 42ms/step - loss: 8.4633 - mae: 8.9549\n",
            "Epoch 72/100\n",
            "21/21 [==============================] - 1s 40ms/step - loss: 6.0122 - mae: 6.4971\n",
            "Epoch 73/100\n",
            "21/21 [==============================] - 1s 41ms/step - loss: 7.2016 - mae: 7.6813\n",
            "Epoch 74/100\n",
            "21/21 [==============================] - 1s 42ms/step - loss: 7.2780 - mae: 7.7634\n",
            "Epoch 75/100\n",
            "21/21 [==============================] - 1s 42ms/step - loss: 6.8155 - mae: 7.2992\n",
            "Epoch 76/100\n",
            "21/21 [==============================] - 1s 41ms/step - loss: 5.3598 - mae: 5.8408\n",
            "Epoch 77/100\n",
            "21/21 [==============================] - 1s 43ms/step - loss: 4.9353 - mae: 5.4152\n",
            "Epoch 78/100\n",
            "21/21 [==============================] - 1s 41ms/step - loss: 7.8266 - mae: 8.3113\n",
            "Epoch 79/100\n",
            "21/21 [==============================] - 1s 41ms/step - loss: 8.1914 - mae: 8.6809\n",
            "Epoch 80/100\n",
            "21/21 [==============================] - 1s 42ms/step - loss: 5.7478 - mae: 6.2266\n",
            "Epoch 81/100\n",
            "21/21 [==============================] - 1s 42ms/step - loss: 5.7607 - mae: 6.2428\n",
            "Epoch 82/100\n",
            "21/21 [==============================] - 1s 41ms/step - loss: 6.3516 - mae: 6.8338\n",
            "Epoch 83/100\n",
            "21/21 [==============================] - 1s 42ms/step - loss: 5.5780 - mae: 6.0601\n",
            "Epoch 84/100\n",
            "21/21 [==============================] - 1s 41ms/step - loss: 5.6544 - mae: 6.1355\n",
            "Epoch 85/100\n",
            "21/21 [==============================] - 1s 43ms/step - loss: 4.5769 - mae: 5.0553\n",
            "Epoch 86/100\n",
            "21/21 [==============================] - 1s 45ms/step - loss: 5.3857 - mae: 5.8690\n",
            "Epoch 87/100\n",
            "21/21 [==============================] - 1s 43ms/step - loss: 5.7778 - mae: 6.2568\n",
            "Epoch 88/100\n",
            "21/21 [==============================] - 1s 43ms/step - loss: 5.3420 - mae: 5.8198\n",
            "Epoch 89/100\n",
            "21/21 [==============================] - 1s 43ms/step - loss: 5.8815 - mae: 6.3666\n",
            "Epoch 90/100\n",
            "21/21 [==============================] - 1s 42ms/step - loss: 4.6073 - mae: 5.0859\n",
            "Epoch 91/100\n",
            "21/21 [==============================] - 1s 41ms/step - loss: 5.5738 - mae: 6.0529\n",
            "Epoch 92/100\n",
            "21/21 [==============================] - 1s 41ms/step - loss: 4.6120 - mae: 5.0891\n",
            "Epoch 93/100\n",
            "21/21 [==============================] - 1s 41ms/step - loss: 5.0445 - mae: 5.5283\n",
            "Epoch 94/100\n",
            "21/21 [==============================] - 1s 41ms/step - loss: 6.0863 - mae: 6.5689\n",
            "Epoch 95/100\n",
            "21/21 [==============================] - 1s 43ms/step - loss: 5.9105 - mae: 6.3953\n",
            "Epoch 96/100\n",
            "21/21 [==============================] - 1s 42ms/step - loss: 5.3406 - mae: 5.8208\n",
            "Epoch 97/100\n",
            "21/21 [==============================] - 1s 41ms/step - loss: 4.9798 - mae: 5.4547\n",
            "Epoch 98/100\n",
            "21/21 [==============================] - 1s 41ms/step - loss: 4.1822 - mae: 4.6567\n",
            "Epoch 99/100\n",
            "21/21 [==============================] - 1s 41ms/step - loss: 5.3625 - mae: 5.8451\n",
            "Epoch 100/100\n",
            "21/21 [==============================] - 1s 41ms/step - loss: 4.6803 - mae: 5.1588\n"
          ]
        }
      ]
    }
  ]
}